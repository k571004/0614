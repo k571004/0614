{
  "cells": [
    {
      "cell_type": "markdown",
      "source": [],
      "metadata": {
        "id": "gJV3ZHjsRTy-"
      },
      "id": "gJV3ZHjsRTy-"
    },
    {
      "cell_type": "code",
      "execution_count": null,
      "id": "7e840927-4215-4a88-af14-c9cc3f1166da",
      "metadata": {
        "id": "7e840927-4215-4a88-af14-c9cc3f1166da"
      },
      "outputs": [],
      "source": [
        "import requests\n",
        "from bs4 import BeautifulSoup\n",
        "import pandas as pd"
      ]
    },
    {
      "cell_type": "code",
      "execution_count": null,
      "id": "df5f0019-9d50-4c13-a52b-f21e19d7fd8b",
      "metadata": {
        "id": "df5f0019-9d50-4c13-a52b-f21e19d7fd8b"
      },
      "outputs": [],
      "source": [
        "tag = \"<p class='youngone' id='junu'> Hello World! </p>\""
      ]
    },
    {
      "cell_type": "code",
      "execution_count": null,
      "id": "db2ea619-0746-4949-b586-f9bd7a545efd",
      "metadata": {
        "id": "db2ea619-0746-4949-b586-f9bd7a545efd"
      },
      "outputs": [],
      "source": [
        "soup = BeautifulSoup(tag)"
      ]
    },
    {
      "cell_type": "code",
      "execution_count": null,
      "id": "8dc467bb-5287-46c0-8d1b-a7770f0eb3e0",
      "metadata": {
        "colab": {
          "base_uri": "https://localhost:8080/"
        },
        "id": "8dc467bb-5287-46c0-8d1b-a7770f0eb3e0",
        "outputId": "693b8212-f334-4105-9034-96f854cee75c"
      },
      "outputs": [
        {
          "output_type": "execute_result",
          "data": {
            "text/plain": [
              "<html><body><p class=\"youngone\" id=\"junu\"> Hello World! </p></body></html>"
            ]
          },
          "metadata": {},
          "execution_count": 4
        }
      ],
      "source": [
        "soup"
      ]
    },
    {
      "cell_type": "code",
      "execution_count": null,
      "id": "cd37944b-c1e1-468e-865c-6a1fc61569c5",
      "metadata": {
        "colab": {
          "base_uri": "https://localhost:8080/"
        },
        "id": "cd37944b-c1e1-468e-865c-6a1fc61569c5",
        "outputId": "0f947f70-ba27-4a28-8c52-d52e11799c0d"
      },
      "outputs": [
        {
          "output_type": "execute_result",
          "data": {
            "text/plain": [
              "<p class=\"youngone\" id=\"junu\"> Hello World! </p>"
            ]
          },
          "metadata": {},
          "execution_count": 5
        }
      ],
      "source": [
        "soup.find('p')"
      ]
    },
    {
      "cell_type": "code",
      "source": [
        "soup.find(class_='youngone')"
      ],
      "metadata": {
        "colab": {
          "base_uri": "https://localhost:8080/"
        },
        "id": "hW2VjwWbshB2",
        "outputId": "5dcda5a3-b6e8-47f1-bbc6-0f00796d3455"
      },
      "id": "hW2VjwWbshB2",
      "execution_count": null,
      "outputs": [
        {
          "output_type": "execute_result",
          "data": {
            "text/plain": [
              "<p class=\"youngone\" id=\"junu\"> Hello World! </p>"
            ]
          },
          "metadata": {},
          "execution_count": 6
        }
      ]
    },
    {
      "cell_type": "code",
      "execution_count": null,
      "id": "6b81aece-56cb-4fe6-925a-e7e13e2dc0fd",
      "metadata": {
        "colab": {
          "base_uri": "https://localhost:8080/"
        },
        "id": "6b81aece-56cb-4fe6-925a-e7e13e2dc0fd",
        "outputId": "8f508d01-7e79-4d0d-bc54-8d5912f613e4"
      },
      "outputs": [
        {
          "output_type": "execute_result",
          "data": {
            "text/plain": [
              "<p class=\"youngone\" id=\"junu\"> Hello World! </p>"
            ]
          },
          "metadata": {},
          "execution_count": 7
        }
      ],
      "source": [
        "\n",
        "soup.find(attrs = {'class':'youngone'})"
      ]
    },
    {
      "cell_type": "code",
      "execution_count": null,
      "id": "302f11cb-ffd2-49d9-88a5-d402623b8247",
      "metadata": {
        "colab": {
          "base_uri": "https://localhost:8080/"
        },
        "id": "302f11cb-ffd2-49d9-88a5-d402623b8247",
        "outputId": "863b1186-73a4-4a98-cd25-12dc45337949"
      },
      "outputs": [
        {
          "output_type": "execute_result",
          "data": {
            "text/plain": [
              "<p class=\"youngone\" id=\"junu\"> Hello World! </p>"
            ]
          },
          "metadata": {},
          "execution_count": 8
        }
      ],
      "source": [
        "soup.find('p', class_='youngone')"
      ]
    },
    {
      "cell_type": "code",
      "execution_count": null,
      "id": "196c75a1-cdff-447c-a1ce-981f06f09a45",
      "metadata": {
        "id": "196c75a1-cdff-447c-a1ce-981f06f09a45"
      },
      "outputs": [],
      "source": [
        "tag = \"<p class='youngone' id='junu'> Hello World! </p>\"\n",
        "soup = BeautifulSoup(tag)\n",
        "object_tag = soup.find('p')"
      ]
    },
    {
      "cell_type": "code",
      "execution_count": null,
      "id": "5957b651-bd20-4f20-b23a-90b0344c0d54",
      "metadata": {
        "colab": {
          "base_uri": "https://localhost:8080/",
          "height": 35
        },
        "id": "5957b651-bd20-4f20-b23a-90b0344c0d54",
        "outputId": "9ffd38cc-8c92-408b-9df5-88266ebc932e"
      },
      "outputs": [
        {
          "output_type": "execute_result",
          "data": {
            "text/plain": [
              "'p'"
            ],
            "application/vnd.google.colaboratory.intrinsic+json": {
              "type": "string"
            }
          },
          "metadata": {},
          "execution_count": 10
        }
      ],
      "source": [
        "#태그의 이름\n",
        "object_tag.name\n",
        "#결과: 'p'"
      ]
    },
    {
      "cell_type": "code",
      "execution_count": null,
      "id": "9837c71a-2d0e-4011-bd9a-7e22b53a5530",
      "metadata": {
        "colab": {
          "base_uri": "https://localhost:8080/",
          "height": 35
        },
        "id": "9837c71a-2d0e-4011-bd9a-7e22b53a5530",
        "outputId": "37ef71b4-8281-45bd-e1e6-92a55d2810e1"
      },
      "outputs": [
        {
          "output_type": "execute_result",
          "data": {
            "text/plain": [
              "' Hello World! '"
            ],
            "application/vnd.google.colaboratory.intrinsic+json": {
              "type": "string"
            }
          },
          "metadata": {},
          "execution_count": 11
        }
      ],
      "source": [
        "#태그에 담긴 텍스트\n",
        "object_tag.text\n",
        "#결과: ' Hello World! '"
      ]
    },
    {
      "cell_type": "code",
      "execution_count": null,
      "id": "8aaf6ddf-0313-4c25-8623-8e76d30ee643",
      "metadata": {
        "colab": {
          "base_uri": "https://localhost:8080/"
        },
        "id": "8aaf6ddf-0313-4c25-8623-8e76d30ee643",
        "outputId": "ba478e62-3266-4d87-cf25-54887cb6a52f"
      },
      "outputs": [
        {
          "output_type": "execute_result",
          "data": {
            "text/plain": [
              "{'class': ['youngone'], 'id': 'junu'}"
            ]
          },
          "metadata": {},
          "execution_count": 12
        }
      ],
      "source": [
        "#태그의 속성과 속성값\n",
        "object_tag.attrs\n",
        "#결과: {'class': ['youngone'], 'id': 'junu'}"
      ]
    },
    {
      "cell_type": "code",
      "source": [
        "html_doc = \"\"\"\n",
        "<html><head><title>The Dormouse's story</title></head>\n",
        "<body>\n",
        "<p class=\"title\"><b>The Dormouse's story</b></p>\n",
        "\n",
        "<p class=\"story\">Once upon a time there were three little sisters; and their names were\n",
        "<a href=\"http://example.com/elsie\" class=\"sister\" id=\"link1\">Elsie</a>,\n",
        "<a href=\"http://example.com/lacie\" class=\"sister\" id=\"link2\">Lacie</a> and\n",
        "<a href=\"http://example.com/tillie\" class=\"sister\" id=\"link3\">Tillie</a>;\n",
        "and they lived at the bottom of a well.</p>\n",
        "\n",
        "<p class=\"story\">...</p>\n",
        "\"\"\""
      ],
      "metadata": {
        "id": "OQadyNnBs6L8"
      },
      "id": "OQadyNnBs6L8",
      "execution_count": null,
      "outputs": []
    },
    {
      "cell_type": "code",
      "source": [
        "from bs4 import BeautifulSoup\n",
        "soup = BeautifulSoup(html_doc, 'html.parser')"
      ],
      "metadata": {
        "id": "24yhYp1itF-t"
      },
      "id": "24yhYp1itF-t",
      "execution_count": null,
      "outputs": []
    },
    {
      "cell_type": "code",
      "source": [
        "soup"
      ],
      "metadata": {
        "colab": {
          "base_uri": "https://localhost:8080/"
        },
        "id": "VacsDkEHtHjK",
        "outputId": "5355caef-db34-435c-9a52-58c1a2b1cad2"
      },
      "id": "VacsDkEHtHjK",
      "execution_count": null,
      "outputs": [
        {
          "output_type": "execute_result",
          "data": {
            "text/plain": [
              "\n",
              "<html><head><title>The Dormouse's story</title></head>\n",
              "<body>\n",
              "<p class=\"title\"><b>The Dormouse's story</b></p>\n",
              "<p class=\"story\">Once upon a time there were three little sisters; and their names were\n",
              "<a class=\"sister\" href=\"http://example.com/elsie\" id=\"link1\">Elsie</a>,\n",
              "<a class=\"sister\" href=\"http://example.com/lacie\" id=\"link2\">Lacie</a> and\n",
              "<a class=\"sister\" href=\"http://example.com/tillie\" id=\"link3\">Tillie</a>;\n",
              "and they lived at the bottom of a well.</p>\n",
              "<p class=\"story\">...</p>\n",
              "</body></html>"
            ]
          },
          "metadata": {},
          "execution_count": 15
        }
      ]
    },
    {
      "cell_type": "code",
      "source": [
        "soup.title"
      ],
      "metadata": {
        "colab": {
          "base_uri": "https://localhost:8080/"
        },
        "id": "EnA4Q9-atJCg",
        "outputId": "b7dd81c6-82c0-4df6-8a63-1bb76fcb1357"
      },
      "id": "EnA4Q9-atJCg",
      "execution_count": null,
      "outputs": [
        {
          "output_type": "execute_result",
          "data": {
            "text/plain": [
              "<title>The Dormouse's story</title>"
            ]
          },
          "metadata": {},
          "execution_count": 16
        }
      ]
    },
    {
      "cell_type": "code",
      "source": [
        "soup.title.name"
      ],
      "metadata": {
        "colab": {
          "base_uri": "https://localhost:8080/",
          "height": 35
        },
        "id": "X4kIq4wGxjrb",
        "outputId": "4163a0f4-86d4-46f6-c370-9b03cd9f958c"
      },
      "id": "X4kIq4wGxjrb",
      "execution_count": null,
      "outputs": [
        {
          "output_type": "execute_result",
          "data": {
            "text/plain": [
              "'title'"
            ],
            "application/vnd.google.colaboratory.intrinsic+json": {
              "type": "string"
            }
          },
          "metadata": {},
          "execution_count": 17
        }
      ]
    },
    {
      "cell_type": "code",
      "source": [
        "soup.title.string"
      ],
      "metadata": {
        "colab": {
          "base_uri": "https://localhost:8080/",
          "height": 35
        },
        "id": "SO5s5Zbvxt5H",
        "outputId": "b8520554-cf85-4832-b65b-7d7772b08c33"
      },
      "id": "SO5s5Zbvxt5H",
      "execution_count": null,
      "outputs": [
        {
          "output_type": "execute_result",
          "data": {
            "text/plain": [
              "\"The Dormouse's story\""
            ],
            "application/vnd.google.colaboratory.intrinsic+json": {
              "type": "string"
            }
          },
          "metadata": {},
          "execution_count": 18
        }
      ]
    },
    {
      "cell_type": "code",
      "source": [
        "soup.p"
      ],
      "metadata": {
        "colab": {
          "base_uri": "https://localhost:8080/"
        },
        "id": "-XilB2ATx2NN",
        "outputId": "22b16a6e-62dc-4081-ef43-7906818336c5"
      },
      "id": "-XilB2ATx2NN",
      "execution_count": null,
      "outputs": [
        {
          "output_type": "execute_result",
          "data": {
            "text/plain": [
              "<p class=\"title\"><b>The Dormouse's story</b></p>"
            ]
          },
          "metadata": {},
          "execution_count": 19
        }
      ]
    },
    {
      "cell_type": "code",
      "source": [
        "soup.p['class']"
      ],
      "metadata": {
        "colab": {
          "base_uri": "https://localhost:8080/"
        },
        "id": "fDA0IloGyAf9",
        "outputId": "d09f6001-7d71-4e2b-c945-8a775d14455a"
      },
      "id": "fDA0IloGyAf9",
      "execution_count": null,
      "outputs": [
        {
          "output_type": "execute_result",
          "data": {
            "text/plain": [
              "['title']"
            ]
          },
          "metadata": {},
          "execution_count": 21
        }
      ]
    },
    {
      "cell_type": "code",
      "source": [
        "soup.a"
      ],
      "metadata": {
        "colab": {
          "base_uri": "https://localhost:8080/"
        },
        "id": "jWrwd2UlyLlP",
        "outputId": "27282ce0-40e4-470d-d4b3-805e6ddd83b2"
      },
      "id": "jWrwd2UlyLlP",
      "execution_count": null,
      "outputs": [
        {
          "output_type": "execute_result",
          "data": {
            "text/plain": [
              "<a class=\"sister\" href=\"http://example.com/elsie\" id=\"link1\">Elsie</a>"
            ]
          },
          "metadata": {},
          "execution_count": 22
        }
      ]
    },
    {
      "cell_type": "code",
      "source": [
        "soup.find_all('a')"
      ],
      "metadata": {
        "colab": {
          "base_uri": "https://localhost:8080/"
        },
        "id": "n9cIlRcsyT8b",
        "outputId": "58ceed4c-1ccf-4dc6-807c-8542fc26db9e"
      },
      "id": "n9cIlRcsyT8b",
      "execution_count": null,
      "outputs": [
        {
          "output_type": "execute_result",
          "data": {
            "text/plain": [
              "[<a class=\"sister\" href=\"http://example.com/elsie\" id=\"link1\">Elsie</a>,\n",
              " <a class=\"sister\" href=\"http://example.com/lacie\" id=\"link2\">Lacie</a>,\n",
              " <a class=\"sister\" href=\"http://example.com/tillie\" id=\"link3\">Tillie</a>]"
            ]
          },
          "metadata": {},
          "execution_count": 23
        }
      ]
    },
    {
      "cell_type": "code",
      "source": [
        "soup.find_all('a')[-1]"
      ],
      "metadata": {
        "colab": {
          "base_uri": "https://localhost:8080/"
        },
        "id": "fm3le2Koyi6z",
        "outputId": "8a0d03ab-9477-4755-b479-0c3c4ac15ed9"
      },
      "id": "fm3le2Koyi6z",
      "execution_count": null,
      "outputs": [
        {
          "output_type": "execute_result",
          "data": {
            "text/plain": [
              "<a class=\"sister\" href=\"http://example.com/tillie\" id=\"link3\">Tillie</a>"
            ]
          },
          "metadata": {},
          "execution_count": 26
        }
      ]
    },
    {
      "cell_type": "code",
      "source": [
        "soup.find(id='link3')"
      ],
      "metadata": {
        "colab": {
          "base_uri": "https://localhost:8080/"
        },
        "id": "qDVZi0u5ynI3",
        "outputId": "c19faf6a-375e-4030-d31e-0e65220dea14"
      },
      "id": "qDVZi0u5ynI3",
      "execution_count": null,
      "outputs": [
        {
          "output_type": "execute_result",
          "data": {
            "text/plain": [
              "<a class=\"sister\" href=\"http://example.com/tillie\" id=\"link3\">Tillie</a>"
            ]
          },
          "metadata": {},
          "execution_count": 27
        }
      ]
    },
    {
      "cell_type": "code",
      "source": [
        "for link in soup.find_all('a'):\n",
        "  print(link.get('href'))"
      ],
      "metadata": {
        "colab": {
          "base_uri": "https://localhost:8080/"
        },
        "id": "jox0wZtty58f",
        "outputId": "5a5da11e-8b32-4cf9-d626-b2ff0a2278e7"
      },
      "id": "jox0wZtty58f",
      "execution_count": null,
      "outputs": [
        {
          "output_type": "stream",
          "name": "stdout",
          "text": [
            "http://example.com/elsie\n",
            "http://example.com/lacie\n",
            "http://example.com/tillie\n"
          ]
        }
      ]
    },
    {
      "cell_type": "code",
      "source": [
        "soup.get_text()"
      ],
      "metadata": {
        "colab": {
          "base_uri": "https://localhost:8080/",
          "height": 53
        },
        "id": "gVZT9k_GzSyA",
        "outputId": "1d8475ca-766b-46cd-846d-da169627cf56"
      },
      "id": "gVZT9k_GzSyA",
      "execution_count": null,
      "outputs": [
        {
          "output_type": "execute_result",
          "data": {
            "text/plain": [
              "\"\\nThe Dormouse's story\\n\\nThe Dormouse's story\\nOnce upon a time there were three little sisters; and their names were\\nElsie,\\nLacie and\\nTillie;\\nand they lived at the bottom of a well.\\n...\\n\""
            ],
            "application/vnd.google.colaboratory.intrinsic+json": {
              "type": "string"
            }
          },
          "metadata": {},
          "execution_count": 29
        }
      ]
    },
    {
      "cell_type": "code",
      "source": [],
      "metadata": {
        "id": "E9mFyZFEzi_P"
      },
      "id": "E9mFyZFEzi_P",
      "execution_count": null,
      "outputs": []
    }
  ],
  "metadata": {
    "kernelspec": {
      "display_name": "Python 3 (ipykernel)",
      "language": "python",
      "name": "python3"
    },
    "language_info": {
      "codemirror_mode": {
        "name": "ipython",
        "version": 3
      },
      "file_extension": ".py",
      "mimetype": "text/x-python",
      "name": "python",
      "nbconvert_exporter": "python",
      "pygments_lexer": "ipython3",
      "version": "3.9.12"
    },
    "colab": {
      "provenance": []
    }
  },
  "nbformat": 4,
  "nbformat_minor": 5
}