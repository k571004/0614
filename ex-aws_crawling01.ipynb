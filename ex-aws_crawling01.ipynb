{
 "cells": [
  {
   "cell_type": "code",
   "execution_count": 1,
   "metadata": {
    "id": "6S-gGu707z44"
   },
   "outputs": [],
   "source": [
    "import requests\n",
    "from bs4 import BeautifulSoup\n",
    "import pandas as pd\n",
    "from time import sleep\n",
    "import re"
   ]
  },
  {
   "cell_type": "code",
   "execution_count": 2,
   "metadata": {
    "id": "6S-gGu707z44"
   },
   "outputs": [],
   "source": [
    "def cleanText(readData):\n",
    "    text = re.sub('[-=+,#/\\?:^$.@*\\\"※~&%ㆍ!』\\\\‘|\\(\\)\\[\\]\\<\\>`\\'…》]','', readData)\n",
    "    return text"
   ]
  },
  {
   "cell_type": "code",
   "execution_count": 3,
   "metadata": {
    "id": "6S-gGu707z44"
   },
   "outputs": [],
   "source": [
    "headers = {\n",
    "    'User-Agent': 'Mozilla/5.0 (Windows NT 10.0; Win64; x64; rv:94.0) Gecko/20100101 Firefox/94.0',\n",
    "    'Accept-Language': 'en-US, en;q=0.5'\n",
    "}"
   ]
  },
  {
   "cell_type": "code",
   "execution_count": 4,
   "metadata": {
    "id": "6S-gGu707z44"
   },
   "outputs": [],
   "source": [
    "search_query = 'air purifier'.replace(' ', '+') # zep\n",
    "base_url = 'https://www.amazon.com/s?k={0}'.format(search_query)"
   ]
  },
  {
   "cell_type": "code",
   "execution_count": 5,
   "metadata": {
    "id": "6S-gGu707z44"
   },
   "outputs": [
    {
     "name": "stdout",
     "output_type": "stream",
     "text": [
      "Processing https://www.amazon.com/s?k=air+purifier&page=1...\n",
      "Processing https://www.amazon.com/s?k=air+purifier&page=2...\n",
      "Processing https://www.amazon.com/s?k=air+purifier&page=3...\n",
      "Processing https://www.amazon.com/s?k=air+purifier&page=4...\n",
      "Processing https://www.amazon.com/s?k=air+purifier&page=5...\n",
      "Processing https://www.amazon.com/s?k=air+purifier&page=6...\n",
      "Processing https://www.amazon.com/s?k=air+purifier&page=7...\n",
      "Processing https://www.amazon.com/s?k=air+purifier&page=8...\n",
      "Processing https://www.amazon.com/s?k=air+purifier&page=9...\n",
      "Processing https://www.amazon.com/s?k=air+purifier&page=10...\n",
      "Processing https://www.amazon.com/s?k=air+purifier&page=11...\n",
      "Processing https://www.amazon.com/s?k=air+purifier&page=12...\n",
      "Processing https://www.amazon.com/s?k=air+purifier&page=13...\n",
      "Processing https://www.amazon.com/s?k=air+purifier&page=14...\n",
      "Processing https://www.amazon.com/s?k=air+purifier&page=15...\n",
      "Processing https://www.amazon.com/s?k=air+purifier&page=16...\n",
      "Processing https://www.amazon.com/s?k=air+purifier&page=17...\n",
      "Processing https://www.amazon.com/s?k=air+purifier&page=18...\n",
      "Processing https://www.amazon.com/s?k=air+purifier&page=19...\n",
      "Processing https://www.amazon.com/s?k=air+purifier&page=20...\n",
      "Processing https://www.amazon.com/s?k=air+purifier&page=21...\n",
      "Processing https://www.amazon.com/s?k=air+purifier&page=22...\n",
      "Processing https://www.amazon.com/s?k=air+purifier&page=23...\n",
      "Processing https://www.amazon.com/s?k=air+purifier&page=24...\n",
      "Processing https://www.amazon.com/s?k=air+purifier&page=25...\n",
      "Processing https://www.amazon.com/s?k=air+purifier&page=26...\n",
      "Processing https://www.amazon.com/s?k=air+purifier&page=27...\n",
      "Processing https://www.amazon.com/s?k=air+purifier&page=28...\n",
      "Processing https://www.amazon.com/s?k=air+purifier&page=29...\n",
      "Processing https://www.amazon.com/s?k=air+purifier&page=30...\n",
      "Processing https://www.amazon.com/s?k=air+purifier&page=31...\n",
      "Processing https://www.amazon.com/s?k=air+purifier&page=32...\n",
      "Processing https://www.amazon.com/s?k=air+purifier&page=33...\n",
      "Processing https://www.amazon.com/s?k=air+purifier&page=34...\n",
      "Processing https://www.amazon.com/s?k=air+purifier&page=35...\n",
      "Processing https://www.amazon.com/s?k=air+purifier&page=36...\n",
      "Processing https://www.amazon.com/s?k=air+purifier&page=37...\n",
      "Processing https://www.amazon.com/s?k=air+purifier&page=38...\n",
      "Processing https://www.amazon.com/s?k=air+purifier&page=39...\n",
      "Processing https://www.amazon.com/s?k=air+purifier&page=40...\n",
      "Processing https://www.amazon.com/s?k=air+purifier&page=41...\n",
      "Processing https://www.amazon.com/s?k=air+purifier&page=42...\n",
      "Processing https://www.amazon.com/s?k=air+purifier&page=43...\n",
      "Processing https://www.amazon.com/s?k=air+purifier&page=44...\n",
      "Processing https://www.amazon.com/s?k=air+purifier&page=45...\n",
      "Processing https://www.amazon.com/s?k=air+purifier&page=46...\n",
      "Processing https://www.amazon.com/s?k=air+purifier&page=47...\n",
      "Processing https://www.amazon.com/s?k=air+purifier&page=48...\n",
      "Processing https://www.amazon.com/s?k=air+purifier&page=49...\n"
     ]
    }
   ],
   "source": [
    "items = []\n",
    "for i in range(1, 50):\n",
    "    print('Processing {0}...'.format(base_url + '&page={0}'.format(i)))\n",
    "    response = requests.get(base_url + '&page={0}'.format(i), headers=headers)\n",
    "    soup = BeautifulSoup(response.content, 'html.parser')\n",
    "    \n",
    "    results = soup.find_all('div', {'class': 's-result-item', 'data-component-type': 's-search-result'})\n",
    "\n",
    "    for result in results:\n",
    "        product_name = result.h2.text\n",
    "\n",
    "        try:\n",
    "            rating = result.find('i', {'class': 'a-icon'}).text\n",
    "            rating_count = result.find_all('span', {'aria-label': True})[1].text\n",
    "        except AttributeError:\n",
    "            continue\n",
    "\n",
    "        try:\n",
    "            price1 = result.find('span', {'class': 'a-price-whole'}).text\n",
    "            price1 = cleanText(price1)\n",
    "            price2 = result.find('span', {'class': 'a-price-fraction'}).text\n",
    "            price2 = cleanText(price2)\n",
    "            price = float(price1 + price2)\n",
    "            product_url = 'https://amazon.com' + result.h2.a['href']\n",
    "            # print(rating_count, product_url)\n",
    "            items.append([product_name, rating, rating_count, price, product_url])\n",
    "        except AttributeError:\n",
    "            continue\n",
    "    sleep(1.5)"
   ]
  },
  {
   "cell_type": "code",
   "execution_count": 6,
   "metadata": {
    "id": "6S-gGu707z44"
   },
   "outputs": [],
   "source": [
    "df = pd.DataFrame(items, columns=['product', 'rating', 'rating count', 'price', 'product url'])\n",
    "df['price'] = df['price']/100\n",
    "df.to_csv('{0}.csv'.format(search_query), index=False)"
   ]
  },
  {
   "cell_type": "code",
   "execution_count": 7,
   "metadata": {},
   "outputs": [
    {
     "data": {
      "text/html": [
       "<div>\n",
       "<style scoped>\n",
       "    .dataframe tbody tr th:only-of-type {\n",
       "        vertical-align: middle;\n",
       "    }\n",
       "\n",
       "    .dataframe tbody tr th {\n",
       "        vertical-align: top;\n",
       "    }\n",
       "\n",
       "    .dataframe thead th {\n",
       "        text-align: right;\n",
       "    }\n",
       "</style>\n",
       "<table border=\"1\" class=\"dataframe\">\n",
       "  <thead>\n",
       "    <tr style=\"text-align: right;\">\n",
       "      <th></th>\n",
       "      <th>product</th>\n",
       "      <th>rating</th>\n",
       "      <th>rating count</th>\n",
       "      <th>price</th>\n",
       "      <th>product url</th>\n",
       "    </tr>\n",
       "  </thead>\n",
       "  <tbody>\n",
       "    <tr>\n",
       "      <th>37</th>\n",
       "      <td>Air Purifier for Home Large Room - Air Choice ...</td>\n",
       "      <td>4.6 out of 5 stars</td>\n",
       "      <td>647</td>\n",
       "      <td>139.99</td>\n",
       "      <td>https://amazon.com/sspa/click?ie=UTF8&amp;spc=MToy...</td>\n",
       "    </tr>\n",
       "    <tr>\n",
       "      <th>38</th>\n",
       "      <td>Air Purifiers for Home Large Room with H13 Tru...</td>\n",
       "      <td>4.2 out of 5 stars</td>\n",
       "      <td>71</td>\n",
       "      <td>69.99</td>\n",
       "      <td>https://amazon.com/sspa/click?ie=UTF8&amp;spc=MToy...</td>\n",
       "    </tr>\n",
       "    <tr>\n",
       "      <th>39</th>\n",
       "      <td>Air Purifiers for Home Large Room up to 969ft²...</td>\n",
       "      <td>4.5 out of 5 stars</td>\n",
       "      <td>838</td>\n",
       "      <td>129.99</td>\n",
       "      <td>https://amazon.com/sspa/click?ie=UTF8&amp;spc=MToy...</td>\n",
       "    </tr>\n",
       "    <tr>\n",
       "      <th>40</th>\n",
       "      <td>MSA3 Air Purifier for Home Large Room and Bedr...</td>\n",
       "      <td>4.6 out of 5 stars</td>\n",
       "      <td>6,776</td>\n",
       "      <td>139.99</td>\n",
       "      <td>https://amazon.com/sspa/click?ie=UTF8&amp;spc=MToy...</td>\n",
       "    </tr>\n",
       "    <tr>\n",
       "      <th>41</th>\n",
       "      <td>MILIN Air Purifier for Home with UV Light &amp; Tr...</td>\n",
       "      <td>4.6 out of 5 stars</td>\n",
       "      <td>89</td>\n",
       "      <td>39.99</td>\n",
       "      <td>https://amazon.com/sspa/click?ie=UTF8&amp;spc=MToy...</td>\n",
       "    </tr>\n",
       "  </tbody>\n",
       "</table>\n",
       "</div>"
      ],
      "text/plain": [
       "                                              product              rating  \\\n",
       "37  Air Purifier for Home Large Room - Air Choice ...  4.6 out of 5 stars   \n",
       "38  Air Purifiers for Home Large Room with H13 Tru...  4.2 out of 5 stars   \n",
       "39  Air Purifiers for Home Large Room up to 969ft²...  4.5 out of 5 stars   \n",
       "40  MSA3 Air Purifier for Home Large Room and Bedr...  4.6 out of 5 stars   \n",
       "41  MILIN Air Purifier for Home with UV Light & Tr...  4.6 out of 5 stars   \n",
       "\n",
       "   rating count   price                                        product url  \n",
       "37        647    139.99  https://amazon.com/sspa/click?ie=UTF8&spc=MToy...  \n",
       "38         71     69.99  https://amazon.com/sspa/click?ie=UTF8&spc=MToy...  \n",
       "39        838    129.99  https://amazon.com/sspa/click?ie=UTF8&spc=MToy...  \n",
       "40      6,776    139.99  https://amazon.com/sspa/click?ie=UTF8&spc=MToy...  \n",
       "41         89     39.99  https://amazon.com/sspa/click?ie=UTF8&spc=MToy...  "
      ]
     },
     "execution_count": 7,
     "metadata": {},
     "output_type": "execute_result"
    }
   ],
   "source": [
    "df.tail()"
   ]
  },
  {
   "cell_type": "code",
   "execution_count": 8,
   "metadata": {},
   "outputs": [],
   "source": [
    "df.to_csv('amazon-1017.csv')"
   ]
  },
  {
   "cell_type": "code",
   "execution_count": null,
   "metadata": {},
   "outputs": [],
   "source": [
    "df['product url'].to_csv('amazon-url.csv')"
   ]
  },
  {
   "cell_type": "code",
   "execution_count": null,
   "metadata": {},
   "outputs": [],
   "source": []
  },
  {
   "cell_type": "code",
   "execution_count": null,
   "metadata": {},
   "outputs": [],
   "source": []
  },
  {
   "cell_type": "markdown",
   "metadata": {},
   "source": [
    "### 새로 시작 하세요! - Kernel restart"
   ]
  },
  {
   "cell_type": "code",
   "execution_count": null,
   "metadata": {},
   "outputs": [],
   "source": []
  },
  {
   "cell_type": "code",
   "execution_count": 1,
   "metadata": {},
   "outputs": [],
   "source": [
    "headers = {\n",
    "    'User-Agent': 'Mozilla/5.0 (Windows NT 10.0; Win64; x64; rv:94.0) Gecko/20100101 Firefox/94.0',\n",
    "    'Accept-Language': 'en-US, en;q=0.5'\n",
    "}"
   ]
  },
  {
   "cell_type": "code",
   "execution_count": 2,
   "metadata": {},
   "outputs": [],
   "source": [
    "import pandas as pd\n",
    "import requests\n",
    "from bs4 import BeautifulSoup\n",
    "from time import sleep\n",
    "# import simplified_scrapy\n",
    "# from simplified_scrapy.simplified_doc import SimplifiedDoc"
   ]
  },
  {
   "cell_type": "code",
   "execution_count": 3,
   "metadata": {},
   "outputs": [],
   "source": [
    "df = pd.read_csv(\"amazon-url.csv\", header=None)"
   ]
  },
  {
   "cell_type": "code",
   "execution_count": 4,
   "metadata": {},
   "outputs": [
    {
     "data": {
      "text/plain": [
       "Int64Index([0, 1], dtype='int64')"
      ]
     },
     "execution_count": 4,
     "metadata": {},
     "output_type": "execute_result"
    }
   ],
   "source": [
    "df.columns"
   ]
  },
  {
   "cell_type": "code",
   "execution_count": 5,
   "metadata": {},
   "outputs": [],
   "source": [
    "images = []"
   ]
  },
  {
   "cell_type": "code",
   "execution_count": 6,
   "metadata": {},
   "outputs": [],
   "source": [
    "# url = df.iloc[1,1]\n",
    "# response = requests.get(url, headers=headers)\n",
    "# soup = BeautifulSoup(response.content, 'html.parser')\n",
    "# results = soup.find_all('div', {'id': 'imgTagWrapperId', 'class': 'imgTagWrapper'})\n",
    "# for result in results:\n",
    "#     print(result)\n",
    "#     image_url = result.img['src']\n",
    "#     image_tag = result.img['alt']\n",
    "#     images.append([images_tag, image_url])\n",
    "\n",
    "# print(image_url)\n",
    "# sleep(0.5)"
   ]
  },
  {
   "cell_type": "code",
   "execution_count": null,
   "metadata": {},
   "outputs": [],
   "source": []
  },
  {
   "cell_type": "code",
   "execution_count": 7,
   "metadata": {},
   "outputs": [
    {
     "data": {
      "text/html": [
       "<div>\n",
       "<style scoped>\n",
       "    .dataframe tbody tr th:only-of-type {\n",
       "        vertical-align: middle;\n",
       "    }\n",
       "\n",
       "    .dataframe tbody tr th {\n",
       "        vertical-align: top;\n",
       "    }\n",
       "\n",
       "    .dataframe thead th {\n",
       "        text-align: right;\n",
       "    }\n",
       "</style>\n",
       "<table border=\"1\" class=\"dataframe\">\n",
       "  <thead>\n",
       "    <tr style=\"text-align: right;\">\n",
       "      <th></th>\n",
       "      <th>0</th>\n",
       "      <th>1</th>\n",
       "    </tr>\n",
       "  </thead>\n",
       "  <tbody>\n",
       "    <tr>\n",
       "      <th>0</th>\n",
       "      <td>NaN</td>\n",
       "      <td>product url</td>\n",
       "    </tr>\n",
       "    <tr>\n",
       "      <th>1</th>\n",
       "      <td>0.0</td>\n",
       "      <td>https://amazon.com/gp/slredirect/picassoRedire...</td>\n",
       "    </tr>\n",
       "    <tr>\n",
       "      <th>2</th>\n",
       "      <td>1.0</td>\n",
       "      <td>https://amazon.com/gp/slredirect/picassoRedire...</td>\n",
       "    </tr>\n",
       "    <tr>\n",
       "      <th>3</th>\n",
       "      <td>2.0</td>\n",
       "      <td>https://amazon.com/LEVOIT-Purifier-Home-Allerg...</td>\n",
       "    </tr>\n",
       "    <tr>\n",
       "      <th>4</th>\n",
       "      <td>3.0</td>\n",
       "      <td>https://amazon.com/LEVOIT-Purifiers-Freshener-...</td>\n",
       "    </tr>\n",
       "  </tbody>\n",
       "</table>\n",
       "</div>"
      ],
      "text/plain": [
       "     0                                                  1\n",
       "0  NaN                                        product url\n",
       "1  0.0  https://amazon.com/gp/slredirect/picassoRedire...\n",
       "2  1.0  https://amazon.com/gp/slredirect/picassoRedire...\n",
       "3  2.0  https://amazon.com/LEVOIT-Purifier-Home-Allerg...\n",
       "4  3.0  https://amazon.com/LEVOIT-Purifiers-Freshener-..."
      ]
     },
     "execution_count": 7,
     "metadata": {},
     "output_type": "execute_result"
    }
   ],
   "source": [
    "# for idx, row in df.iterrows():\n",
    "# url = df.iloc[idx+1,1]\n",
    "df.head()"
   ]
  },
  {
   "cell_type": "code",
   "execution_count": 14,
   "metadata": {},
   "outputs": [
    {
     "name": "stdout",
     "output_type": "stream",
     "text": [
      "<!--\n",
      "        To discuss automated access to Amazon data please contact api-services-support@amazon.com.\n",
      "        For information about migrating to our APIs refer to our Marketplace APIs at https://developer.amazonservices.com/ref=rm_5_sv, or our Product Advertising API at https://affiliate-program.amazon.com/gp/advertising/api/detail/main.html/ref=rm_5_ac for advertising use cases.\n",
      "-->\n",
      "<!DOCTYPE html>\n",
      "\n",
      "<html>\n",
      "<head>\n",
      "<meta charset=\"utf-8\"/>\n",
      "<meta content=\"ie=edge\" http-equiv=\"x-ua-compatible\"/>\n",
      "<meta content=\"width=device-width, initial-scale=1, shrink-to-fit=no\" name=\"viewport\"/>\n",
      "<title>Sorry! Something went wrong!</title>\n",
      "<style>\n",
      "  html, body {\n",
      "    padding: 0;\n",
      "    margin: 0\n",
      "  }\n",
      "\n",
      "  img {\n",
      "    border: 0\n",
      "  }\n",
      "\n",
      "  #a {\n",
      "    background: #232f3e;\n",
      "    padding: 11px 11px 11px 192px\n",
      "  }\n",
      "\n",
      "  #b {\n",
      "    position: absolute;\n",
      "    left: 22px;\n",
      "    top: 12px\n",
      "  }\n",
      "\n",
      "  #c {\n",
      "    position: relative;\n",
      "    max-width: 800px;\n",
      "    padding: 0 40px 0 0\n",
      "  }\n",
      "\n",
      "  #e, #f {\n",
      "    height: 35px;\n",
      "    border: 0;\n",
      "    font-size: 1em\n",
      "  }\n",
      "\n",
      "  #e {\n",
      "    width: 100%;\n",
      "    margin: 0;\n",
      "    padding: 0 10px;\n",
      "    border-radius: 4px 0 0 4px\n",
      "  }\n",
      "\n",
      "  #f {\n",
      "    cursor: pointer;\n",
      "    background: #febd69;\n",
      "    font-weight: bold;\n",
      "    border-radius: 0 4px 4px 0;\n",
      "    -webkit-appearance: none;\n",
      "    position: absolute;\n",
      "    top: 0;\n",
      "    right: 0;\n",
      "    padding: 0 12px\n",
      "  }\n",
      "\n",
      "  @media (max-width: 500px) {\n",
      "    #a {\n",
      "      padding: 55px 10px 10px\n",
      "    }\n",
      "\n",
      "    #b {\n",
      "      left: 6px\n",
      "    }\n",
      "  }\n",
      "\n",
      "  #g {\n",
      "    text-align: center;\n",
      "    margin: 30px 0\n",
      "  }\n",
      "\n",
      "  #g img {\n",
      "    max-width: 90%\n",
      "  }\n",
      "\n",
      "  #d {\n",
      "    display: none\n",
      "  }\n",
      "\n",
      "  #d[src] {\n",
      "    display: inline\n",
      "  }\n",
      "  </style>\n",
      "</head>\n",
      "<body>\n",
      "<a href=\"/ref=cs_503_logo\"><img alt=\"Amazon.com\" id=\"b\" src=\"https://images-na.ssl-images-amazon.com/images/G/01/error/logo._TTD_.png\"/></a>\n",
      "<form accept-charset=\"utf-8\" action=\"/s\" id=\"a\" method=\"GET\" role=\"search\">\n",
      "<div id=\"c\">\n",
      "<input id=\"e\" name=\"field-keywords\" placeholder=\"Search\"/>\n",
      "<input name=\"ref\" type=\"hidden\" value=\"cs_503_search\"/>\n",
      "<input id=\"f\" type=\"submit\" value=\"Go\"/>\n",
      "</div>\n",
      "</form>\n",
      "<div id=\"g\">\n",
      "<div><a href=\"/ref=cs_503_link\"><img alt=\"Sorry! Something went wrong on our end. Please go back and try again or go to Amazon's home page.\" src=\"https://images-na.ssl-images-amazon.com/images/G/01/error/500_503.png\"/></a>\n",
      "</div>\n",
      "<a href=\"/dogsofamazon/ref=cs_503_d\" rel=\"noopener noreferrer\" target=\"_blank\"><img alt=\"Dogs of Amazon\" id=\"d\"/></a>\n",
      "<script>document.getElementById(\"d\").src = \"https://images-na.ssl-images-amazon.com/images/G/01/error/\" + (Math.floor(Math.random() * 43) + 1) + \"._TTD_.jpg\";</script>\n",
      "</div>\n",
      "</body>\n",
      "</html>\n",
      "\n",
      "[<div id=\"c\">\n",
      "<input id=\"e\" name=\"field-keywords\" placeholder=\"Search\"/>\n",
      "<input name=\"ref\" type=\"hidden\" value=\"cs_503_search\"/>\n",
      "<input id=\"f\" type=\"submit\" value=\"Go\"/>\n",
      "</div>, <div id=\"g\">\n",
      "<div><a href=\"/ref=cs_503_link\"><img alt=\"Sorry! Something went wrong on our end. Please go back and try again or go to Amazon's home page.\" src=\"https://images-na.ssl-images-amazon.com/images/G/01/error/500_503.png\"/></a>\n",
      "</div>\n",
      "<a href=\"/dogsofamazon/ref=cs_503_d\" rel=\"noopener noreferrer\" target=\"_blank\"><img alt=\"Dogs of Amazon\" id=\"d\"/></a>\n",
      "<script>document.getElementById(\"d\").src = \"https://images-na.ssl-images-amazon.com/images/G/01/error/\" + (Math.floor(Math.random() * 43) + 1) + \"._TTD_.jpg\";</script>\n",
      "</div>, <div><a href=\"/ref=cs_503_link\"><img alt=\"Sorry! Something went wrong on our end. Please go back and try again or go to Amazon's home page.\" src=\"https://images-na.ssl-images-amazon.com/images/G/01/error/500_503.png\"/></a>\n",
      "</div>]\n"
     ]
    }
   ],
   "source": [
    "#url = df.iloc[1,1]\n",
    "url='https://www.amazon.com/Medify-MA-50-Air-Purifier-filter/dp/B08S2Y6CTX/ref=sr_1_1_sspa?keywords=air%2Bpurifier&qid=1665383112&qu=eyJxc2MiOiI2LjY4IiwicXNhIjoiNi40NSIsInFzcCI6IjYuMTUifQ%3D%3D&sr=8-1-spons&spLa=ZW5jcnlwdGVkUXVhbGlmaWVyPUEzVVo0WkZVVzc1WUNZJmVuY3J5cHRlZElkPUExMDEzNDk1M0xTRVg2UEU3NkJYWCZlbmNyeXB0ZWRBZElkPUEwMjcyNTIwU1lHODNJTldaM1M0JndpZGdldE5hbWU9c3BfYXRmJmFjdGlvbj1jbGlja1JlZGlyZWN0JmRvTm90TG9nQ2xpY2s9dHJ1ZQ&th=1'\n",
    "#response = requests.get(url, headers=headers)\n",
    "response = requests.get(url)\n",
    "#soup = BeautifulSoup(response.text, 'html.parser')\n",
    "soup = BeautifulSoup(response.content, 'html.parser')\n",
    "print(soup)\n",
    "\n",
    "#results = soup.find_all('div', {'class': 'a-section a-spacing-small a-spacing-top-small'})\n",
    "#results = soup.select('div.a-section a-spacing-small a-spacing-top-small')\n",
    "#results = soup.find_all('div')\n",
    "results = soup.select('div')\n",
    "print(results)"
   ]
  },
  {
   "cell_type": "code",
   "execution_count": 18,
   "metadata": {},
   "outputs": [
    {
     "name": "stdout",
     "output_type": "stream",
     "text": [
      "https://amazon.com/gp/slredirect/picassoRedirect.html/ref=pa_sp_atf_aps_sr_pg1_1?ie=UTF8&adId=A0272520SYG83INWZ3S4&url=%2FMedify-MA-50-Air-Purifier-filter%2Fdp%2FB08S2Y6CTX%2Fref%3Dsr_1_1_sspa%3Fkeywords%3Dair%2Bpurifier%26qid%3D1665383112%26qu%3DeyJxc2MiOiI2LjY4IiwicXNhIjoiNi40NSIsInFzcCI6IjYuMTUifQ%253D%253D%26sr%3D8-1-spons%26psc%3D1&qualifier=1665383112&id=5798760663585250&widgetName=sp_atf\n"
     ]
    },
    {
     "data": {
      "text/plain": [
       "\"\\n#for result in results:\\n    # print(result)\\n    image_tag = result.img['alt']\\n    image_url = result.img['src']\\n    images.append([image_tag, image_url])\\n    \""
      ]
     },
     "execution_count": 18,
     "metadata": {},
     "output_type": "execute_result"
    }
   ],
   "source": [
    "'''\n",
    "#for result in results:\n",
    "    # print(result)\n",
    "    image_tag = result.img['alt']\n",
    "    image_url = result.img['src']\n",
    "    images.append([image_tag, image_url])\n",
    "    '''\n",
    "    \n",
    "    # print(image_url)\n",
    "    # sleep(0.5)"
   ]
  },
  {
   "cell_type": "code",
   "execution_count": 6,
   "metadata": {},
   "outputs": [],
   "source": [
    "df_images = pd.DataFrame(images, columns=['Product Detail', 'image url'])"
   ]
  },
  {
   "cell_type": "code",
   "execution_count": 7,
   "metadata": {},
   "outputs": [],
   "source": [
    "df_images.to_csv('amazon_images_url.csv')"
   ]
  },
  {
   "cell_type": "code",
   "execution_count": null,
   "metadata": {},
   "outputs": [],
   "source": []
  },
  {
   "cell_type": "code",
   "execution_count": null,
   "metadata": {},
   "outputs": [],
   "source": []
  },
  {
   "cell_type": "code",
   "execution_count": null,
   "metadata": {},
   "outputs": [],
   "source": []
  },
  {
   "cell_type": "markdown",
   "metadata": {},
   "source": [
    "### Kernel 다시 시작해 주세요!"
   ]
  },
  {
   "cell_type": "markdown",
   "metadata": {},
   "source": [
    "### URL로부터 image 가져오기"
   ]
  },
  {
   "cell_type": "code",
   "execution_count": null,
   "metadata": {},
   "outputs": [],
   "source": [
    "import pandas as pd\n",
    "import urllib.request\n",
    "import re\n",
    "import sys"
   ]
  },
  {
   "cell_type": "code",
   "execution_count": null,
   "metadata": {},
   "outputs": [],
   "source": [
    "df = pd.read_csv(\"amazon_images_url.csv\", header=None)"
   ]
  },
  {
   "cell_type": "code",
   "execution_count": null,
   "metadata": {},
   "outputs": [],
   "source": []
  },
  {
   "cell_type": "code",
   "execution_count": null,
   "metadata": {},
   "outputs": [],
   "source": [
    "for idx, row in df.iterrows():\n",
    "    url = df.iloc[idx+1,2]\n",
    "    file_name = '.\\\\amazon_images\\\\{0}.jpg'.format(idx)\n",
    "    # urllib.request.urlretrieve(url, file_name)\n",
    "    try:\n",
    "        urllib.request.urlretrieve(url, file_name)\n",
    "    except:\n",
    "        pass\n",
    "    print(url)"
   ]
  },
  {
   "cell_type": "code",
   "execution_count": null,
   "metadata": {},
   "outputs": [],
   "source": []
  }
 ],
 "metadata": {
  "colab": {
   "provenance": []
  },
  "kernelspec": {
   "display_name": "Python 3 (ipykernel)",
   "language": "python",
   "name": "python3"
  },
  "language_info": {
   "codemirror_mode": {
    "name": "ipython",
    "version": 3
   },
   "file_extension": ".py",
   "mimetype": "text/x-python",
   "name": "python",
   "nbconvert_exporter": "python",
   "pygments_lexer": "ipython3",
   "version": "3.9.12"
  }
 },
 "nbformat": 4,
 "nbformat_minor": 4
}
